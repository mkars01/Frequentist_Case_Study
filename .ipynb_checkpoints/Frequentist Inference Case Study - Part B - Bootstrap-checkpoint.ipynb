{
 "cells": [
  {
   "cell_type": "markdown",
   "metadata": {},
   "source": [
    "# Frequentist Inference Case Study - Part B"
   ]
  },
  {
   "cell_type": "markdown",
   "metadata": {},
   "source": [
    "## Learning objectives"
   ]
  },
  {
   "cell_type": "markdown",
   "metadata": {},
   "source": [
    "Welcome to Part B of the Frequentist inference case study! The purpose of this case study is to help you apply the concepts associated with Frequentist inference in Python. In particular, you'll practice writing Python code to apply the following statistical concepts: \n",
    "* the _z_-statistic\n",
    "* the _t_-statistic\n",
    "* the difference and relationship between the two\n",
    "* the Central Limit Theorem, including its assumptions and consequences\n",
    "* how to estimate the population mean and standard deviation from a sample\n",
    "* the concept of a sampling distribution of a test statistic, particularly for the mean\n",
    "* how to combine these concepts to calculate a confidence interval"
   ]
  },
  {
   "cell_type": "markdown",
   "metadata": {},
   "source": [
    "In the previous notebook, we used only data from a known normal distribution. **You'll now tackle real data, rather than simulated data, and answer some relevant real-world business problems using the data.**"
   ]
  },
  {
   "cell_type": "markdown",
   "metadata": {},
   "source": [
    "## Hospital medical charges"
   ]
  },
  {
   "cell_type": "markdown",
   "metadata": {},
   "source": [
    "Imagine that a hospital has hired you as their data scientist. An administrator is working on the hospital's business operations plan and needs you to help them answer some business questions. \n",
    "\n",
    "In this assignment notebook, you're going to use frequentist statistical inference on a data sample to answer the questions:\n",
    "* has the hospital's revenue stream fallen below a key threshold?\n",
    "* are patients with insurance really charged different amounts than those without?\n",
    "\n",
    "Answering that last question with a frequentist approach makes some assumptions, and requires some knowledge, about the two groups."
   ]
  },
  {
   "cell_type": "markdown",
   "metadata": {},
   "source": [
    "We are going to use some data on medical charges obtained from [Kaggle](https://www.kaggle.com/easonlai/sample-insurance-claim-prediction-dataset). \n",
    "\n",
    "For the purposes of this exercise, assume the observations are the result of random sampling from our single hospital. Recall that in the previous assignment, we introduced the Central Limit Theorem (CLT), and its consequence that the distributions of sample statistics approach a normal distribution as $n$ increases. The amazing thing about this is that it applies to the sampling distributions of statistics that have been calculated from even highly non-normal distributions of data! Recall, also, that hypothesis testing is very much based on making inferences about such sample statistics. You're going to rely heavily on the CLT to apply frequentist (parametric) tests to answer the questions in this notebook."
   ]
  },
  {
   "cell_type": "code",
   "execution_count": 1,
   "metadata": {},
   "outputs": [],
   "source": [
    "import pandas as pd\n",
    "import numpy as np\n",
    "import matplotlib.pyplot as plt\n",
    "from scipy.stats import t\n",
    "from scipy.stats import ttest_ind\n",
    "from numpy.random import seed\n",
    "medical = pd.read_csv('data/insurance2.csv')"
   ]
  },
  {
   "cell_type": "code",
   "execution_count": 2,
   "metadata": {},
   "outputs": [
    {
     "data": {
      "text/plain": [
       "(1338, 8)"
      ]
     },
     "execution_count": 2,
     "metadata": {},
     "output_type": "execute_result"
    }
   ],
   "source": [
    "medical.shape"
   ]
  },
  {
   "cell_type": "code",
   "execution_count": 3,
   "metadata": {},
   "outputs": [
    {
     "data": {
      "text/html": [
       "<div>\n",
       "<style scoped>\n",
       "    .dataframe tbody tr th:only-of-type {\n",
       "        vertical-align: middle;\n",
       "    }\n",
       "\n",
       "    .dataframe tbody tr th {\n",
       "        vertical-align: top;\n",
       "    }\n",
       "\n",
       "    .dataframe thead th {\n",
       "        text-align: right;\n",
       "    }\n",
       "</style>\n",
       "<table border=\"1\" class=\"dataframe\">\n",
       "  <thead>\n",
       "    <tr style=\"text-align: right;\">\n",
       "      <th></th>\n",
       "      <th>age</th>\n",
       "      <th>sex</th>\n",
       "      <th>bmi</th>\n",
       "      <th>children</th>\n",
       "      <th>smoker</th>\n",
       "      <th>region</th>\n",
       "      <th>charges</th>\n",
       "      <th>insuranceclaim</th>\n",
       "    </tr>\n",
       "  </thead>\n",
       "  <tbody>\n",
       "    <tr>\n",
       "      <th>0</th>\n",
       "      <td>19</td>\n",
       "      <td>0</td>\n",
       "      <td>27.900</td>\n",
       "      <td>0</td>\n",
       "      <td>1</td>\n",
       "      <td>3</td>\n",
       "      <td>16884.92400</td>\n",
       "      <td>1</td>\n",
       "    </tr>\n",
       "    <tr>\n",
       "      <th>1</th>\n",
       "      <td>18</td>\n",
       "      <td>1</td>\n",
       "      <td>33.770</td>\n",
       "      <td>1</td>\n",
       "      <td>0</td>\n",
       "      <td>2</td>\n",
       "      <td>1725.55230</td>\n",
       "      <td>1</td>\n",
       "    </tr>\n",
       "    <tr>\n",
       "      <th>2</th>\n",
       "      <td>28</td>\n",
       "      <td>1</td>\n",
       "      <td>33.000</td>\n",
       "      <td>3</td>\n",
       "      <td>0</td>\n",
       "      <td>2</td>\n",
       "      <td>4449.46200</td>\n",
       "      <td>0</td>\n",
       "    </tr>\n",
       "    <tr>\n",
       "      <th>3</th>\n",
       "      <td>33</td>\n",
       "      <td>1</td>\n",
       "      <td>22.705</td>\n",
       "      <td>0</td>\n",
       "      <td>0</td>\n",
       "      <td>1</td>\n",
       "      <td>21984.47061</td>\n",
       "      <td>0</td>\n",
       "    </tr>\n",
       "    <tr>\n",
       "      <th>4</th>\n",
       "      <td>32</td>\n",
       "      <td>1</td>\n",
       "      <td>28.880</td>\n",
       "      <td>0</td>\n",
       "      <td>0</td>\n",
       "      <td>1</td>\n",
       "      <td>3866.85520</td>\n",
       "      <td>1</td>\n",
       "    </tr>\n",
       "  </tbody>\n",
       "</table>\n",
       "</div>"
      ],
      "text/plain": [
       "   age  sex     bmi  children  smoker  region      charges  insuranceclaim\n",
       "0   19    0  27.900         0       1       3  16884.92400               1\n",
       "1   18    1  33.770         1       0       2   1725.55230               1\n",
       "2   28    1  33.000         3       0       2   4449.46200               0\n",
       "3   33    1  22.705         0       0       1  21984.47061               0\n",
       "4   32    1  28.880         0       0       1   3866.85520               1"
      ]
     },
     "execution_count": 3,
     "metadata": {},
     "output_type": "execute_result"
    }
   ],
   "source": [
    "medical.head()"
   ]
  },
  {
   "cell_type": "markdown",
   "metadata": {},
   "source": [
    "__Q1:__ Plot the histogram of charges and calculate the mean and standard deviation. Comment on the appropriateness of these statistics for the data."
   ]
  },
  {
   "cell_type": "markdown",
   "metadata": {},
   "source": [
    "__A:__ The sample data of charges is a non-normal distribution heavily skewed to the right.  The sample mean is \\\\$13,270 and the sample standard deviation is \\\\$12,110.  Charges range from a minimum of \\\\$1122 to a maximum of \\\\$63,770 for the 1338 samples.  The mean and standard deviation of the data are not appropriate statistics to base assumptions on as they are heavily skewed by a relatively small number of high charges."
   ]
  },
  {
   "cell_type": "code",
   "execution_count": 4,
   "metadata": {},
   "outputs": [
    {
     "name": "stdout",
     "output_type": "stream",
     "text": [
      "The following are the sample statistics for charges: \n",
      "   mean = 13270.422265141257\n",
      "   std  = 12110.011236693994\n",
      "   min  = 1121.8739\n",
      "   max  = 63770.42801\n"
     ]
    }
   ],
   "source": [
    "charges_mean = medical['charges'].mean()\n",
    "charges_std = medical['charges'].std(ddof=1)\n",
    "charges_min = medical['charges'].min()\n",
    "charges_max = medical['charges'].max()\n",
    "print('The following are the sample statistics for charges: ')\n",
    "print('   mean = ' + str(charges_mean))\n",
    "print('   std  = ' + str(charges_std))\n",
    "print('   min  = ' + str(charges_min))\n",
    "print('   max  = ' + str(charges_max))"
   ]
  },
  {
   "cell_type": "code",
   "execution_count": 5,
   "metadata": {},
   "outputs": [
    {
     "data": {
      "image/png": "[encoded data removed]",
      "text/plain": [
       "<Figure size 432x288 with 1 Axes>"
      ]
     },
     "metadata": {
      "needs_background": "light"
     },
     "output_type": "display_data"
    }
   ],
   "source": [
    "_ = plt.hist(medical['charges'], bins=30)\n",
    "_ = plt.xlabel('charges')\n",
    "_ = plt.ylabel('count')\n",
    "_ = plt.title('Distribution of Medical Charges')\n",
    "_ = plt.axvline(charges_mean, color='r')\n",
    "_ = plt.axvline(charges_mean+charges_std, color='r', linestyle='--')\n",
    "_ = plt.axvline(charges_mean-charges_std, color='r', linestyle='--')\n",
    "_ = plt.axvline(charges_mean+(2*charges_std), color='r', linestyle='-.')\n",
    "_ = plt.axvline(charges_mean-(2*charges_std), color='r', linestyle='-.')"
   ]
  },
  {
   "cell_type": "markdown",
   "metadata": {},
   "source": [
    "__Q2:__ The administrator is concerned that the actual average charge has fallen below 12,000, threatening the hospital's operational model. On the assumption that these data represent a random sample of charges, how would you justify that these data allow you to answer that question? And what would be the most appropriate frequentist test, of the ones discussed so far, to apply?"
   ]
  },
  {
   "cell_type": "markdown",
   "metadata": {},
   "source": [
    "__A:__ The administrators concern that the actual average charge has fallen below \\\\$12,000 can analyzed using the Central Limit Theorem to apply frequentist inference.  Since we do not know the true population standard deviation, it would be appropriate to test the theory with a t distribution of the sample mean."
   ]
  },
  {
   "cell_type": "markdown",
   "metadata": {},
   "source": [
    "__Q3:__ Given the nature of the administrator's concern, what is the appropriate confidence interval in this case? A ***one-sided*** or ***two-sided*** interval? (Refresh your understanding of this concept on p. 399 of the *AoS*). Calculate the critical value and the relevant 95% confidence interval for the mean, and comment on whether the administrator should be concerned."
   ]
  },
  {
   "cell_type": "markdown",
   "metadata": {},
   "source": [
    "__A:__ The hypothesis that the administrator is concerned about is whether the actual average charge has fallen below \\\\$12,000, therefore a one-sided interval would be appropriate to test the hypothesis.  By using a 95% confidence interval, we can be 95% confident that the population mean of the charges is above the lower bound of \\\\$12,516."
   ]
  },
  {
   "cell_type": "code",
   "execution_count": 6,
   "metadata": {},
   "outputs": [],
   "source": [
    "def sample_means(data, s_size=100, s_iter=10000):\n",
    "    results = np.empty(s_iter)\n",
    "    for i in range(s_iter):\n",
    "        sample = np.random.choice(data, s_size)\n",
    "        results[i] = np.mean(sample)\n",
    "    return results"
   ]
  },
  {
   "cell_type": "code",
   "execution_count": 7,
   "metadata": {},
   "outputs": [
    {
     "name": "stdout",
     "output_type": "stream",
     "text": [
      "The following are the statistics for the distribution of sample mean of charges: \n",
      "   mean = 13267.269369816793\n",
      "   std  = 382.702052971498\n"
     ]
    }
   ],
   "source": [
    "seed(42)\n",
    "s_size = 1000\n",
    "s_iter = 10000\n",
    "charges = medical['charges'].to_numpy()\n",
    "charges_sample_means = sample_means(charges, s_size, s_iter)\n",
    "s_mean = np.mean(charges_sample_means)\n",
    "s_std = np.std(charges_sample_means, ddof=1)\n",
    "print('The following are the statistics for the distribution of sample mean of charges: ')\n",
    "print('   mean = ' + str(s_mean))\n",
    "print('   std  = ' + str(s_std))"
   ]
  },
  {
   "cell_type": "code",
   "execution_count": 8,
   "metadata": {},
   "outputs": [
    {
     "data": {
      "image/png": "[encoded data removed]",
      "text/plain": [
       "<Figure size 432x288 with 1 Axes>"
      ]
     },
     "metadata": {
      "needs_background": "light"
     },
     "output_type": "display_data"
    }
   ],
   "source": [
    "_ = plt.hist(charges_sample_means, bins=30)\n",
    "_ = plt.xlabel('charges')\n",
    "_ = plt.ylabel('count')\n",
    "_ = plt.title('Distribution of Medical Charges Sample Means')\n",
    "_ = plt.axvline(s_mean, color='r')\n",
    "_ = plt.axvline(s_mean + s_std, color='r', linestyle='--')\n",
    "_ = plt.axvline(s_mean - s_std, color='r', linestyle='--')\n",
    "_ = plt.axvline(s_mean + (2*s_std), color='r', linestyle='-.')\n",
    "_ = plt.axvline(s_mean - (2*s_std), color='r', linestyle='-.')"
   ]
  },
  {
   "cell_type": "code",
   "execution_count": 9,
   "metadata": {},
   "outputs": [
    {
     "data": {
      "text/plain": [
       "1.646380345427535"
      ]
     },
     "execution_count": 9,
     "metadata": {},
     "output_type": "execute_result"
    }
   ],
   "source": [
    "# Calculate t-score for a 95% confidence interval and 1337 degrees of freedom (df) which is one less than the sample size\n",
    "t_value = t.ppf(0.950, s_size - 1)\n",
    "t_value"
   ]
  },
  {
   "cell_type": "code",
   "execution_count": 10,
   "metadata": {},
   "outputs": [
    {
     "data": {
      "text/plain": [
       "630.0731381670412"
      ]
     },
     "execution_count": 10,
     "metadata": {},
     "output_type": "execute_result"
    }
   ],
   "source": [
    "# Calculate Margin of Error using PPF for t\n",
    "# 95% confidence interval (use 0.950 for one-sided tail)\n",
    "moe_t_ppf = t.ppf(0.950, s_size - 1, loc=s_mean, scale=s_std) - s_mean\n",
    "moe_t_ppf"
   ]
  },
  {
   "cell_type": "code",
   "execution_count": 11,
   "metadata": {},
   "outputs": [
    {
     "data": {
      "text/plain": [
       "(12516.277264009934, 14018.261475623653)"
      ]
     },
     "execution_count": 11,
     "metadata": {},
     "output_type": "execute_result"
    }
   ],
   "source": [
    "# 95% confidence interval range using scipy.stats.t\n",
    "ci_range_t = t.interval(0.950, s_size - 1, loc=s_mean, scale=s_std)\n",
    "ci_range_t"
   ]
  },
  {
   "cell_type": "markdown",
   "metadata": {},
   "source": [
    "The administrator then wants to know whether people with insurance really are charged a different amount to those without.\n",
    "\n",
    "__Q4:__ State the null and alternative hypothesis here. Use the _t_-test for the difference between means, where the pooled standard deviation of the two groups is given by:\n",
    "\\begin{equation}\n",
    "s_p = \\sqrt{\\frac{(n_0 - 1)s^2_0 + (n_1 - 1)s^2_1}{n_0 + n_1 - 2}}\n",
    "\\end{equation}\n",
    "\n",
    "and the *t*-test statistic is then given by:\n",
    "\n",
    "\\begin{equation}\n",
    "t = \\frac{\\bar{x}_0 - \\bar{x}_1}{s_p \\sqrt{1/n_0 + 1/n_1}}.\n",
    "\\end{equation}\n",
    "\n",
    "(If you need some reminding of the general definition of ***t-statistic***, check out the definition on p. 404 of *AoS*). \n",
    "\n",
    "What assumption about the variances of the two groups are we making here?"
   ]
  },
  {
   "cell_type": "markdown",
   "metadata": {},
   "source": [
    "__A:__ The null hypothesis is that people with insurance are charged the same amount as people without.\n",
    "The alternative hypothesis is that people with insurance are charged a different amount than people without.\n",
    "We are assuming that the two groups have equal variances."
   ]
  },
  {
   "cell_type": "markdown",
   "metadata": {},
   "source": [
    "__Q5:__ Perform this hypothesis test both manually, using the above formulae, and then using the appropriate function from [scipy.stats](https://docs.scipy.org/doc/scipy/reference/stats.html#statistical-tests) (hint, you're looking for a function to perform a _t_-test on two independent samples). For the manual approach, calculate the value of the test statistic and then its probability (the p-value). Verify you get the same results from both."
   ]
  },
  {
   "cell_type": "markdown",
   "metadata": {},
   "source": [
    "__A:__ "
   ]
  },
  {
   "cell_type": "markdown",
   "metadata": {},
   "source": [
    "### Extract charges for people WITH insurance"
   ]
  },
  {
   "cell_type": "code",
   "execution_count": 12,
   "metadata": {},
   "outputs": [
    {
     "name": "stdout",
     "output_type": "stream",
     "text": [
      "The following are the statistics for the distribution of sample mean of charges for people with insurance: \n",
      "   mean = 16426.063283255087\n",
      "   std  = 2543.986802391124\n"
     ]
    }
   ],
   "source": [
    "seed(42)\n",
    "s_size_y = 30\n",
    "s_iter_y = 10000\n",
    "charges_ins_y = medical[medical['insuranceclaim']==1].charges.to_numpy()\n",
    "charges_ins_y_sample_means = sample_means(charges_ins_y, s_size_y, s_iter_y)\n",
    "charges_ins_y_s_mean = np.mean(charges_ins_y_sample_means)\n",
    "charges_ins_y_s_std = np.std(charges_ins_y_sample_means, ddof=1)\n",
    "print('The following are the statistics for the distribution of sample mean of charges for people with insurance: ')\n",
    "print('   mean = ' + str(charges_ins_y_s_mean))\n",
    "print('   std  = ' + str(charges_ins_y_s_std))"
   ]
  },
  {
   "cell_type": "code",
   "execution_count": 13,
   "metadata": {
    "scrolled": true
   },
   "outputs": [
    {
     "data": {
      "image/png": "[encoded data removed]",
      "text/plain": [
       "<Figure size 432x288 with 1 Axes>"
      ]
     },
     "metadata": {
      "needs_background": "light"
     },
     "output_type": "display_data"
    }
   ],
   "source": [
    "_ = plt.hist(charges_ins_y_sample_means, bins=30)\n",
    "_ = plt.xlabel('charges')\n",
    "_ = plt.ylabel('count')\n",
    "_ = plt.title('Distribution of Medical Charges Sample Means for People with Insurance')\n",
    "_ = plt.axvline(charges_ins_y_s_mean, color='r')\n",
    "_ = plt.axvline(charges_ins_y_s_mean + charges_ins_y_s_std, color='r', linestyle='--')\n",
    "_ = plt.axvline(charges_ins_y_s_mean - charges_ins_y_s_std, color='r', linestyle='--')\n",
    "_ = plt.axvline(charges_ins_y_s_mean + (2*charges_ins_y_s_std), color='r', linestyle='-.')\n",
    "_ = plt.axvline(charges_ins_y_s_mean - (2*charges_ins_y_s_std), color='r', linestyle='-.')"
   ]
  },
  {
   "cell_type": "markdown",
   "metadata": {},
   "source": [
    "### Extract charges for people WITHOUT insurance"
   ]
  },
  {
   "cell_type": "code",
   "execution_count": 14,
   "metadata": {},
   "outputs": [
    {
     "name": "stdout",
     "output_type": "stream",
     "text": [
      "The following are the statistics for the distribution of sample mean of charges for people without insurance: \n",
      "   mean = 8807.569924607968\n",
      "   std  = 1180.9255781927059\n"
     ]
    }
   ],
   "source": [
    "seed(42)\n",
    "s_size_n = 30\n",
    "s_iter_n = 10000\n",
    "charges_ins_n = medical[medical['insuranceclaim']==0].charges.to_numpy()\n",
    "charges_ins_n_sample_means = sample_means(charges_ins_n, s_size_n, s_iter_n)\n",
    "charges_ins_n_s_mean = np.mean(charges_ins_n_sample_means)\n",
    "charges_ins_n_s_std = np.std(charges_ins_n_sample_means, ddof=1)\n",
    "print('The following are the statistics for the distribution of sample mean of charges for people without insurance: ')\n",
    "print('   mean = ' + str(charges_ins_n_s_mean))\n",
    "print('   std  = ' + str(charges_ins_n_s_std))"
   ]
  },
  {
   "cell_type": "code",
   "execution_count": 15,
   "metadata": {},
   "outputs": [
    {
     "data": {
      "image/png": "[encoded data removed]",
      "text/plain": [
       "<Figure size 432x288 with 1 Axes>"
      ]
     },
     "metadata": {
      "needs_background": "light"
     },
     "output_type": "display_data"
    }
   ],
   "source": [
    "_ = plt.hist(charges_ins_n_sample_means, bins=30)\n",
    "_ = plt.xlabel('charges')\n",
    "_ = plt.ylabel('count')\n",
    "_ = plt.title('Distribution of Medical Charges Sample Means for People with No Insurance')\n",
    "_ = plt.axvline(charges_ins_n_s_mean, color='r')\n",
    "_ = plt.axvline(charges_ins_n_s_mean + charges_ins_n_s_std, color='r', linestyle='--')\n",
    "_ = plt.axvline(charges_ins_n_s_mean - charges_ins_n_s_std, color='r', linestyle='--')\n",
    "_ = plt.axvline(charges_ins_n_s_mean + (2*charges_ins_n_s_std), color='r', linestyle='-.')\n",
    "_ = plt.axvline(charges_ins_n_s_mean - (2*charges_ins_n_s_std), color='r', linestyle='-.')"
   ]
  },
  {
   "cell_type": "markdown",
   "metadata": {},
   "source": [
    "### Calculate Degrees of Freedom and Critical Value for 95% Confidence Interval"
   ]
  },
  {
   "cell_type": "code",
   "execution_count": 16,
   "metadata": {},
   "outputs": [
    {
     "name": "stdout",
     "output_type": "stream",
     "text": [
      "df=19998, cv=1.645\n"
     ]
    }
   ],
   "source": [
    "# degrees of freedom\n",
    "df = len(charges_ins_y_sample_means) + len(charges_ins_n_sample_means) - 2\n",
    "# calculate the critical value\n",
    "alpha = 0.05\n",
    "cv = t.ppf(1.0 - alpha, df)\n",
    "print('df=%d, cv=%.3f' % (df, cv))"
   ]
  },
  {
   "cell_type": "markdown",
   "metadata": {},
   "source": [
    "### Manual Calculation of t-stat and p-value (version 1)\n",
    "Referenced from: https://machinelearningmastery.com/how-to-code-the-students-t-test-from-scratch-in-python/"
   ]
  },
  {
   "cell_type": "code",
   "execution_count": 17,
   "metadata": {},
   "outputs": [
    {
     "name": "stdout",
     "output_type": "stream",
     "text": [
      "t=271.631, df=19998, cv=1.645, p=0.000\n"
     ]
    }
   ],
   "source": [
    "# calculate standard errors\n",
    "n1, n2 = len(charges_ins_y_sample_means), len(charges_ins_n_sample_means)\n",
    "se1, se2 = charges_ins_y_s_std/np.sqrt(n1), charges_ins_n_s_std/np.sqrt(n2)\n",
    "# standard error on the difference between the samples\n",
    "sed = np.sqrt(se1**2.0 + se2**2.0)\n",
    "# calculate the t statistic\n",
    "t_stat = (charges_ins_y_s_mean - charges_ins_n_s_mean) / sed\n",
    "# calculate the p-value\n",
    "p = (1.0 - t.cdf(abs(t_stat), df)) * 2.0\n",
    "print('t=%.3f, df=%d, cv=%.3f, p=%.3f' % (t_stat, df, cv, p))"
   ]
  },
  {
   "cell_type": "code",
   "execution_count": 18,
   "metadata": {},
   "outputs": [
    {
     "name": "stdout",
     "output_type": "stream",
     "text": [
      "Reject the null hypothesis that the means are equal.\n"
     ]
    }
   ],
   "source": [
    "# interpret via critical value\n",
    "if abs(t_stat) <= cv:\n",
    "    print('Accept null hypothesis that the means are equal.')\n",
    "else:\n",
    "    print('Reject the null hypothesis that the means are equal.')"
   ]
  },
  {
   "cell_type": "code",
   "execution_count": 19,
   "metadata": {},
   "outputs": [
    {
     "name": "stdout",
     "output_type": "stream",
     "text": [
      "Reject the null hypothesis that the means are equal.\n"
     ]
    }
   ],
   "source": [
    "# interpret via p-value\n",
    "if p > alpha:\n",
    "    print('Accept null hypothesis that the means are equal.')\n",
    "else:\n",
    "    print('Reject the null hypothesis that the means are equal.')"
   ]
  },
  {
   "cell_type": "markdown",
   "metadata": {},
   "source": [
    "### Manual Calculation of t-stat and p-value (version 2)\n",
    "Using formula provided in question Q4 above"
   ]
  },
  {
   "cell_type": "code",
   "execution_count": 20,
   "metadata": {},
   "outputs": [
    {
     "data": {
      "text/plain": [
       "1983.2365053076742"
      ]
     },
     "execution_count": 20,
     "metadata": {},
     "output_type": "execute_result"
    }
   ],
   "source": [
    "# Pooled Standard Deviation of the Two Groups\n",
    "var_y = ((s_iter_y - 1)*(charges_ins_y_s_std**2))\n",
    "var_n = ((s_iter_n - 1)*(charges_ins_n_s_std**2))\n",
    "pool_std = np.sqrt((var_y + var_n) / df)\n",
    "pool_std"
   ]
  },
  {
   "cell_type": "code",
   "execution_count": 21,
   "metadata": {},
   "outputs": [
    {
     "name": "stdout",
     "output_type": "stream",
     "text": [
      "t=271.631, df=19998, cv=1.645, p=0.000\n"
     ]
    }
   ],
   "source": [
    "# Calculate t-statistic\n",
    "mean_diff = charges_ins_y_s_mean - charges_ins_n_s_mean\n",
    "size_yn_prop = (1 / s_iter_y) + (1 / s_iter_n)\n",
    "t_yn_calc = mean_diff / (pool_std * np.sqrt(size_yn_prop))\n",
    "# calculate the p-value\n",
    "p_yn_calc = (1.0 - t.cdf(abs(t_yn_calc), df)) * 2.0\n",
    "print('t=%.3f, df=%d, cv=%.3f, p=%.3f' % (t_yn_calc, df, cv, p_yn_calc))"
   ]
  },
  {
   "cell_type": "code",
   "execution_count": 22,
   "metadata": {},
   "outputs": [
    {
     "name": "stdout",
     "output_type": "stream",
     "text": [
      "Reject the null hypothesis that the means are equal.\n"
     ]
    }
   ],
   "source": [
    "# interpret via critical value\n",
    "if abs(t_yn_calc) <= cv:\n",
    "    print('Accept null hypothesis that the means are equal.')\n",
    "else:\n",
    "    print('Reject the null hypothesis that the means are equal.')"
   ]
  },
  {
   "cell_type": "code",
   "execution_count": 23,
   "metadata": {},
   "outputs": [
    {
     "name": "stdout",
     "output_type": "stream",
     "text": [
      "Reject the null hypothesis that the means are equal.\n"
     ]
    }
   ],
   "source": [
    "# interpret via p-value\n",
    "if p_yn_calc > alpha:\n",
    "    print('Accept null hypothesis that the means are equal.')\n",
    "else:\n",
    "    print('Reject the null hypothesis that the means are equal.')"
   ]
  },
  {
   "cell_type": "markdown",
   "metadata": {},
   "source": [
    "### Use scipy.stats.ttest_ind Calculation of t-stat and p-value"
   ]
  },
  {
   "cell_type": "code",
   "execution_count": 24,
   "metadata": {},
   "outputs": [
    {
     "name": "stdout",
     "output_type": "stream",
     "text": [
      "t=271.631, df=19998, cv=1.645, p=0.000\n"
     ]
    }
   ],
   "source": [
    "t_yn_scipy, p_yn_scipy = ttest_ind(charges_ins_y_sample_means, charges_ins_n_sample_means, equal_var=True)\n",
    "print('t=%.3f, df=%d, cv=%.3f, p=%.3f' % (t_yn_scipy, df, cv, p_yn_scipy))"
   ]
  },
  {
   "cell_type": "code",
   "execution_count": 25,
   "metadata": {},
   "outputs": [
    {
     "name": "stdout",
     "output_type": "stream",
     "text": [
      "Reject the null hypothesis that the means are equal.\n"
     ]
    }
   ],
   "source": [
    "# interpret via critical value\n",
    "if abs(t_yn_scipy) <= cv:\n",
    "    print('Accept null hypothesis that the means are equal.')\n",
    "else:\n",
    "    print('Reject the null hypothesis that the means are equal.')"
   ]
  },
  {
   "cell_type": "code",
   "execution_count": 26,
   "metadata": {},
   "outputs": [
    {
     "name": "stdout",
     "output_type": "stream",
     "text": [
      "Reject the null hypothesis that the means are equal.\n"
     ]
    }
   ],
   "source": [
    "# interpret via p-value\n",
    "if p_yn_scipy > alpha:\n",
    "    print('Accept null hypothesis that the means are equal.')\n",
    "else:\n",
    "    print('Reject the null hypothesis that the means are equal.')"
   ]
  },
  {
   "cell_type": "markdown",
   "metadata": {},
   "source": [
    "Congratulations! Hopefully you got the exact same numerical results. This shows that you correctly calculated the numbers by hand. Secondly, you used the correct function and saw that it's much easier to use. All you need to do is pass your data to it."
   ]
  },
  {
   "cell_type": "markdown",
   "metadata": {},
   "source": [
    "__Q6:__ Conceptual question: look through the documentation for statistical test functions in scipy.stats. You'll see the above _t_-test for a sample, but can you see an equivalent one for performing a *z*-test from a sample? Comment on your answer."
   ]
  },
  {
   "cell_type": "markdown",
   "metadata": {},
   "source": [
    "__A:__ It does not appear that the scipy.stats package has any equivalent functions to scipy.stats.t.ttest_ind for z-test to compare the means of two independent samples of scores.  However, it does seem to be available in the statsmodels.stats.weightstats.CompareMeans.ztest_ind package.  "
   ]
  },
  {
   "cell_type": "markdown",
   "metadata": {},
   "source": [
    "## Learning outcomes"
   ]
  },
  {
   "cell_type": "markdown",
   "metadata": {},
   "source": [
    "Having completed this project notebook, you now have good hands-on experience:\n",
    "* using the central limit theorem to help you apply frequentist techniques to answer questions that pertain to very non-normally distributed data from the real world\n",
    "* performing inference using such data to answer business questions\n",
    "* forming a hypothesis and framing the null and alternative hypotheses\n",
    "* testing this using a _t_-test"
   ]
  }
 ],
 "metadata": {
  "kernelspec": {
   "display_name": "Python 3 (ipykernel)",
   "language": "python",
   "name": "python3"
  },
  "language_info": {
   "codemirror_mode": {
    "name": "ipython",
    "version": 3
   },
   "file_extension": ".py",
   "mimetype": "text/x-python",
   "name": "python",
   "nbconvert_exporter": "python",
   "pygments_lexer": "ipython3",
   "version": "3.9.7"
  }
 },
 "nbformat": 4,
 "nbformat_minor": 2
}
